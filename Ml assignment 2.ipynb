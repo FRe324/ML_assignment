{
 "cells": [
  {
   "cell_type": "markdown",
   "metadata": {},
   "source": [
    "1. What is the concept of human learning? Please give two examples.\n",
    "\n",
    "Ans:-Human Learning is process of gradual acquiring new understanding, knowledge , behaviours, skills, values, attitudes, and preferences.\n",
    "\n",
    "These are some example for human learning:\n",
    "\n",
    "•Learning Things by experience :- To understand which item is hot and not in touch \n",
    "\n",
    "•Learning by visuals/looking:- We use to draw what we see in our childhood is perfect example of human learning\n"
   ]
  },
  {
   "cell_type": "markdown",
   "metadata": {},
   "source": [
    "2. What different forms of human learning are there? Are there any machine learning equivalents?"
   ]
  },
  {
   "cell_type": "markdown",
   "metadata": {},
   "source": [
    "There are basically three type of human learning \n",
    "\n",
    "1. classical conditioning \n",
    "\n",
    "2. operant conditioning\n",
    "\n",
    "3. observational learning\n",
    "\n",
    "Observational Learning is equivalent to Reinforcement learning cause in both learning on basis of observation happens.\n"
   ]
  },
  {
   "cell_type": "markdown",
   "metadata": {},
   "source": [
    "3. What is machine learning, and how does it work? What are the key responsibilities of machine learning?"
   ]
  },
  {
   "cell_type": "markdown",
   "metadata": {},
   "source": [
    "Machine learning is a branch of artificial intelligence (AI) and computer science which focuses on the use of data and algorithms to imitate the way that humans learn, gradually improving its accuracy\n",
    "with machine learning we have The ability to perform automated data visualization,Customer engagement, Accurate data analysis."
   ]
  },
  {
   "cell_type": "markdown",
   "metadata": {},
   "source": [
    "4. Define the terms \"penalty\" and \"reward\" in the context of reinforcement learning.\n"
   ]
  },
  {
   "cell_type": "markdown",
   "metadata": {},
   "source": [
    "Reinforcement learning work as agent. The agent receives rewards by performing correctly and penalties for performing incorrectly. The agent learns without intervention from a human by maximizing its reward and minimizing its penalty."
   ]
  },
  {
   "cell_type": "markdown",
   "metadata": {},
   "source": [
    "5. Explain the term \"learning as a search\"?\n"
   ]
  },
  {
   "cell_type": "markdown",
   "metadata": {},
   "source": [
    "Learning as a search is meaning that the model is learning means it is  searching the underlying pattern of the given data for a specific output."
   ]
  },
  {
   "cell_type": "markdown",
   "metadata": {},
   "source": [
    "6. What are the various goals of machine learning? What is the relationship between these and human learning?\n"
   ]
  },
  {
   "cell_type": "markdown",
   "metadata": {},
   "source": [
    "the various goals of machine learning to discover patterns in the data and then give output predictions based on often complex patterns to answer business questions, detect and analyse trends and help solve problems."
   ]
  },
  {
   "cell_type": "markdown",
   "metadata": {},
   "source": [
    "7. Illustrate the various elements of machine learning using a real-life illustration.\n"
   ]
  },
  {
   "cell_type": "markdown",
   "metadata": {},
   "source": [
    "Humans acquire knowledge through experience either directly or shared by others. Machines acquire knowledge through experience shared in the form of past data"
   ]
  },
  {
   "cell_type": "markdown",
   "metadata": {},
   "source": [
    "8. Provide an example of the abstraction method.\n"
   ]
  },
  {
   "cell_type": "markdown",
   "metadata": {},
   "source": [
    "Switch Board is a real life example of abstraction we get only option of ON/OFF but we dont understand the whats going behind the back of switch board "
   ]
  },
  {
   "cell_type": "markdown",
   "metadata": {},
   "source": [
    "9. What is the concept of generalization? What function does it play in the machine learning process?\n"
   ]
  },
  {
   "cell_type": "markdown",
   "metadata": {},
   "source": [
    "Generalization is the concept that humans and other animals use past learning in present situations of learning if the conditions in the situations are regarded as similar.Example a dog eats one food he feels stomach ache but when provided diffrent food which looks same he wont have it cause he genralized all color food as same.\n",
    "It plays major role in machine learning cause it will in oly to determine the new dataset.\n",
    "`\n"
   ]
  },
  {
   "cell_type": "markdown",
   "metadata": {},
   "source": [
    "What is classification, exactly? What are the main distinctions between classification and regression?\n"
   ]
  },
  {
   "cell_type": "markdown",
   "metadata": {},
   "source": [
    " classification is about predicting a label and regression is about predicting a quantity."
   ]
  },
  {
   "cell_type": "markdown",
   "metadata": {},
   "source": [
    "11. What is regression, and how does it work? Give an example of a real-world problem that was solved using regression.\n"
   ]
  },
  {
   "cell_type": "markdown",
   "metadata": {},
   "source": [
    "Regression predictive modeling is the task of approximating a mapping function (f) from input variables (X) to a continuous output variable (y).\n",
    "\n",
    "suppose we want to do weather forecasting, so for this, we will use the Regression algorithm. In weather prediction, the model is trained on the past data, and once the training is completed, it can easily predict the weather for future days."
   ]
  },
  {
   "cell_type": "markdown",
   "metadata": {},
   "source": [
    "12. Describe the clustering mechanism in detail.\n"
   ]
  },
  {
   "cell_type": "markdown",
   "metadata": {},
   "source": []
  },
  {
   "cell_type": "markdown",
   "metadata": {},
   "source": [
    "13. Make brief observations on two of the following topics:\n",
    "i. Machine learning algorithms are used\n",
    "ii. Studying under supervision\n",
    "iii. Studying without supervision\n",
    "iv. Reinforcement learning is a form of learning based on positive reinforcement.\n"
   ]
  },
  {
   "cell_type": "markdown",
   "metadata": {},
   "source": []
  }
 ],
 "metadata": {
  "kernelspec": {
   "display_name": "Python 3",
   "language": "python",
   "name": "python3"
  },
  "language_info": {
   "codemirror_mode": {
    "name": "ipython",
    "version": 3
   },
   "file_extension": ".py",
   "mimetype": "text/x-python",
   "name": "python",
   "nbconvert_exporter": "python",
   "pygments_lexer": "ipython3",
   "version": "3.8.5"
  }
 },
 "nbformat": 4,
 "nbformat_minor": 4
}
